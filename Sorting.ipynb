{
 "cells": [
  {
   "cell_type": "code",
   "execution_count": 13,
   "metadata": {},
   "outputs": [],
   "source": [
    "ls = [3,2,0,1]"
   ]
  },
  {
   "cell_type": "code",
   "execution_count": 15,
   "metadata": {},
   "outputs": [],
   "source": [
    "# Over the given array traverse from n to i-2 (reverse)\n",
    "for i in range(len(ls)-1,0,-1):\n",
    "    # Inner loop for traversing j from 0 to i-1\n",
    "    for j in range(0,i):\n",
    "        # If value at arr[j] > arr[i], swap the numbers\n",
    "        if ls[j] > ls[i]:\n",
    "            temp = ls[j]\n",
    "            ls[j] = ls[i]\n",
    "            ls[i] = temp\n"
   ]
  },
  {
   "cell_type": "code",
   "execution_count": 17,
   "metadata": {},
   "outputs": [],
   "source": [
    "def sort_rec(arr, n):\n",
    "    # Base case\n",
    "    if n==1:\n",
    "        return\n",
    "    # leaf case\n",
    "    for j in range(0,n-i):\n",
    "        # If value at arr[j] > arr[i], swap the numbers\n",
    "        if ls[j] > ls[i]:\n",
    "            temp = ls[j]\n",
    "            ls[j] = ls[i]\n",
    "            ls[i] = temp \n",
    "    sort_rec(arr, n-1)"
   ]
  },
  {
   "cell_type": "code",
   "execution_count": 18,
   "metadata": {},
   "outputs": [],
   "source": [
    "ls = [3,2,0,1,3]"
   ]
  },
  {
   "cell_type": "code",
   "execution_count": 19,
   "metadata": {},
   "outputs": [],
   "source": [
    "sort_rec(ls, len(ls))"
   ]
  },
  {
   "cell_type": "markdown",
   "metadata": {},
   "source": [
    "**Selection Sort**"
   ]
  },
  {
   "cell_type": "code",
   "execution_count": 49,
   "metadata": {},
   "outputs": [],
   "source": [
    "# Selection sort using another list \n",
    "def get_min(ls):\n",
    "    min_value = ls[0]\n",
    "    min_index = 0\n",
    "    for index, item in enumerate(ls):\n",
    "        if item < min_value:\n",
    "            min_value = item\n",
    "            min_index = index\n",
    "    return min_value, min_index\n",
    "\n",
    "def selection_sort(ls):\n",
    "    temp = []\n",
    "    for i in range(len(ls)):\n",
    "        value, index = get_min(ls)\n",
    "        ls.pop(index)\n",
    "        temp.append(value)\n",
    "    return temp"
   ]
  },
  {
   "cell_type": "code",
   "execution_count": 50,
   "metadata": {},
   "outputs": [
    {
     "data": {
      "text/plain": [
       "[-1, 0, 1, 2, 2, 4, 489]"
      ]
     },
     "execution_count": 50,
     "metadata": {},
     "output_type": "execute_result"
    }
   ],
   "source": [
    "selection_sort([1,0,2,489,2,-1, 4])"
   ]
  },
  {
   "cell_type": "code",
   "execution_count": 36,
   "metadata": {},
   "outputs": [],
   "source": [
    "# Selection sort using constant memory space\n",
    "\n",
    "# 1. Iterate over array\n",
    "# 2. Find the minimum\n",
    "# 3. Swap the minimum value to the index\n",
    "def selection_sort1(arr):\n",
    "    for index, item in enumerate(arr):\n",
    "        for \n"
   ]
  },
  {
   "cell_type": "code",
   "execution_count": null,
   "metadata": {},
   "outputs": [],
   "source": []
  },
  {
   "cell_type": "code",
   "execution_count": null,
   "metadata": {},
   "outputs": [],
   "source": []
  },
  {
   "cell_type": "code",
   "execution_count": null,
   "metadata": {},
   "outputs": [],
   "source": []
  },
  {
   "cell_type": "code",
   "execution_count": null,
   "metadata": {},
   "outputs": [],
   "source": []
  },
  {
   "cell_type": "code",
   "execution_count": null,
   "metadata": {},
   "outputs": [],
   "source": []
  },
  {
   "cell_type": "code",
   "execution_count": null,
   "metadata": {},
   "outputs": [],
   "source": []
  },
  {
   "cell_type": "code",
   "execution_count": null,
   "metadata": {},
   "outputs": [],
   "source": []
  },
  {
   "cell_type": "code",
   "execution_count": null,
   "metadata": {},
   "outputs": [],
   "source": []
  },
  {
   "cell_type": "code",
   "execution_count": null,
   "metadata": {},
   "outputs": [],
   "source": []
  },
  {
   "cell_type": "code",
   "execution_count": null,
   "metadata": {},
   "outputs": [],
   "source": []
  }
 ],
 "metadata": {
  "kernelspec": {
   "display_name": "Python 3",
   "language": "python",
   "name": "python3"
  },
  "language_info": {
   "codemirror_mode": {
    "name": "ipython",
    "version": 3
   },
   "file_extension": ".py",
   "mimetype": "text/x-python",
   "name": "python",
   "nbconvert_exporter": "python",
   "pygments_lexer": "ipython3",
   "version": "3.7.6"
  }
 },
 "nbformat": 4,
 "nbformat_minor": 4
}
