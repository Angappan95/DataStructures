{
 "cells": [
  {
   "cell_type": "code",
   "execution_count": 1,
   "metadata": {},
   "outputs": [],
   "source": [
    "# 3 different list. Find common element in 3 \n",
    "\n",
    "ls = [1, 54, 75, 65, 23, 765, -5]\n",
    "ls1 = [43, 164, 75, 2, -4, 64]\n",
    "ls3 = [43, 62, 75, 65, 5, 36]\n",
    "\n"
   ]
  },
  {
   "cell_type": "code",
   "execution_count": 31,
   "metadata": {},
   "outputs": [],
   "source": [
    "def serve_icecream(arr):\n",
    "    denomination = {'5': 0, '10':0, '20':0}\n",
    "    \n",
    "    bal = 0\n",
    "    cost = 5\n",
    "    \n",
    "#     Iterate over the array:\n",
    "    for item in arr:\n",
    "        print(denomination)\n",
    "        denomination[item] = denomination[item]+1\n",
    "\n",
    "#       Customer has exact denomination\n",
    "        if int(item) == cost:            \n",
    "            print('True')\n",
    "            \n",
    "#       Customer gives denomination > cost price\n",
    "        if int(item) > cost:\n",
    "            bal = int(item) - cost\n",
    "            \n",
    "            # for bal of 5 rs\n",
    "            if (bal == 5) and (denomination['5']>=1):\n",
    "                print('True')\n",
    "                denomination['5'] = denomination['5'] -1\n",
    "\n",
    "            # for bal of 15 rs\n",
    "            if bal == 15:\n",
    "                if (denomination['10'] >=1) and (denomination['5']>=1):\n",
    "                    denomination['10'] = denomination['10']-1\n",
    "                    denomination['5'] = denomination['5']-1\n",
    "                    print('True')\n",
    "                    \n",
    "                elif(denomination['5']>=3):\n",
    "                    denomination['5'] = denomination['10']-1\n",
    "                    print('True')\n",
    "\n",
    "                else:\n",
    "                    print('Fase')\n",
    "\n",
    "            else:\n",
    "                print(False)"
   ]
  },
  {
   "cell_type": "code",
   "execution_count": 32,
   "metadata": {},
   "outputs": [
    {
     "name": "stdout",
     "output_type": "stream",
     "text": [
      "{'5': 0, '10': 0, '20': 0}\n",
      "True\n",
      "{'5': 1, '10': 0, '20': 0}\n",
      "False\n",
      "{'5': 0, '10': 1, '20': 0}\n",
      "True\n",
      "{'5': 1, '10': 1, '20': 0}\n",
      "False\n",
      "{'5': 0, '10': 2, '20': 0}\n",
      "Fase\n"
     ]
    }
   ],
   "source": [
    "serve_icecream(['5', '10', '5', '10', '20'])"
   ]
  },
  {
   "cell_type": "code",
   "execution_count": 33,
   "metadata": {},
   "outputs": [
    {
     "data": {
      "text/plain": [
       "{'A': '34', 'B': 34}"
      ]
     },
     "execution_count": 33,
     "metadata": {},
     "output_type": "execute_result"
    }
   ],
   "source": [
    "{\n",
    "    'A': '34',\n",
    "    'B':34\n",
    "}"
   ]
  },
  {
   "cell_type": "code",
   "execution_count": null,
   "metadata": {},
   "outputs": [],
   "source": []
  },
  {
   "cell_type": "code",
   "execution_count": null,
   "metadata": {},
   "outputs": [],
   "source": []
  },
  {
   "cell_type": "code",
   "execution_count": null,
   "metadata": {},
   "outputs": [],
   "source": []
  },
  {
   "cell_type": "code",
   "execution_count": null,
   "metadata": {},
   "outputs": [],
   "source": []
  }
 ],
 "metadata": {
  "kernelspec": {
   "display_name": "Python 3",
   "language": "python",
   "name": "python3"
  },
  "language_info": {
   "codemirror_mode": {
    "name": "ipython",
    "version": 3
   },
   "file_extension": ".py",
   "mimetype": "text/x-python",
   "name": "python",
   "nbconvert_exporter": "python",
   "pygments_lexer": "ipython3",
   "version": "3.7.6"
  }
 },
 "nbformat": 4,
 "nbformat_minor": 4
}
