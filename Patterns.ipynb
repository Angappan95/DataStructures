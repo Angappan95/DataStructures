{
 "cells": [
  {
   "cell_type": "code",
   "execution_count": 1,
   "metadata": {},
   "outputs": [
    {
     "name": "stdout",
     "output_type": "stream",
     "text": [
      "5 4 3 2 1 \n",
      "5 4 3 2 1 \n",
      "5 4 3 2 1 \n",
      "5 4 3 2 1 \n",
      "5 4 3 2 1 \n"
     ]
    }
   ],
   "source": [
    "def square_pattern(num):\n",
    "    i = 1\n",
    "    while(i <= num):\n",
    "        j = num\n",
    "        while (j >= 1):\n",
    "            print(j, end=\" \")\n",
    "            j -= 1\n",
    "        print(\"\")\n",
    "        i += 1\n",
    "\n",
    "square_pattern(5)"
   ]
  },
  {
   "cell_type": "code",
   "execution_count": 2,
   "metadata": {},
   "outputs": [
    {
     "name": "stdout",
     "output_type": "stream",
     "text": [
      "1 \n",
      "1 2 \n",
      "1 2 3 \n",
      "1 2 3 4 \n",
      "1 2 3 4 5 \n"
     ]
    }
   ],
   "source": [
    "def triangle_pattern(num):\n",
    "    i = 1\n",
    "    while i <= num:\n",
    "        j = 1\n",
    "        while j <= i:\n",
    "            print(j, end=\" \")\n",
    "            j += 1\n",
    "        print()\n",
    "        i += 1\n",
    "        \n",
    "triangle_pattern(5)"
   ]
  },
  {
   "cell_type": "code",
   "execution_count": 3,
   "metadata": {},
   "outputs": [
    {
     "name": "stdout",
     "output_type": "stream",
     "text": [
      "1 \n",
      "2 3 \n",
      "3 4 5 \n",
      "4 5 6 7 \n",
      "5 6 7 8 9 \n"
     ]
    }
   ],
   "source": [
    "def triangle_pattern1(num):\n",
    "    i = 1\n",
    "    while i<=num:\n",
    "        j=i\n",
    "        while j<i+i:\n",
    "            print(j, end=\" \")\n",
    "            j+=1\n",
    "        print()\n",
    "        i+=1\n",
    "\n",
    "triangle_pattern1(5)"
   ]
  },
  {
   "cell_type": "code",
   "execution_count": 4,
   "metadata": {},
   "outputs": [
    {
     "name": "stdout",
     "output_type": "stream",
     "text": [
      "1 \n",
      "2 3 \n",
      "4 5 6 \n"
     ]
    }
   ],
   "source": [
    "def triangle_pattern3(num):\n",
    "    i=1\n",
    "    counter = 1\n",
    "    while i<=num:\n",
    "        j=1\n",
    "        while j<=i:\n",
    "            print(counter, end=' ')\n",
    "            j+=1\n",
    "            counter+=1\n",
    "        print()\n",
    "        i+=1\n",
    "        \n",
    "triangle_pattern3(3)"
   ]
  },
  {
   "cell_type": "code",
   "execution_count": 5,
   "metadata": {},
   "outputs": [
    {
     "name": "stdout",
     "output_type": "stream",
     "text": [
      "* \n",
      "* * \n",
      "* * * \n",
      "* * * * \n",
      "* * * * * \n"
     ]
    }
   ],
   "source": [
    "def star_pattern(num):\n",
    "    i=1\n",
    "    while i<=num:\n",
    "        j=1\n",
    "        while j<=i:\n",
    "            print('*', end=' ')\n",
    "            j+=1\n",
    "        print()\n",
    "        i+=1\n",
    "        \n",
    "star_pattern(5)"
   ]
  },
  {
   "cell_type": "code",
   "execution_count": 8,
   "metadata": {},
   "outputs": [
    {
     "name": "stdout",
     "output_type": "stream",
     "text": [
      "1\n",
      "22\n",
      "333\n",
      "4444\n",
      "55555\n"
     ]
    }
   ],
   "source": [
    "## Read input as specified in the question\n",
    "## Print the required output in given format\n",
    "def triangle_1(num):\n",
    "    i=1\n",
    "    while i<=num:\n",
    "        p = i\n",
    "        j = 1\n",
    "        while j<=i:\n",
    "            print(p, end=\"\")\n",
    "            j+=1\n",
    "        print()\n",
    "        i+=1\n",
    "        \n",
    "triangle_1(5)"
   ]
  },
  {
   "cell_type": "code",
   "execution_count": 9,
   "metadata": {},
   "outputs": [
    {
     "name": "stdout",
     "output_type": "stream",
     "text": [
      "1\n",
      "21\n",
      "321\n",
      "4321\n",
      "54321\n"
     ]
    }
   ],
   "source": [
    "def triangle_rev(num):\n",
    "    i=1\n",
    "    while i<=num:\n",
    "        j=1\n",
    "        k=i\n",
    "        while j<=i:\n",
    "            print(k, end=\"\")\n",
    "            j+=1\n",
    "            k-=1\n",
    "        print()\n",
    "        i+=1\n",
    "        \n",
    "        \n",
    "triangle_rev(5)"
   ]
  },
  {
   "cell_type": "code",
   "execution_count": 10,
   "metadata": {},
   "outputs": [
    {
     "name": "stdout",
     "output_type": "stream",
     "text": [
      "ABCDE\n",
      "ABCDE\n",
      "ABCDE\n",
      "ABCDE\n",
      "ABCDE\n"
     ]
    }
   ],
   "source": [
    "def pattern_alpha(num):\n",
    "    i = 1\n",
    "    while i<=num:\n",
    "        j=1\n",
    "        k=65\n",
    "        while(j<=num):\n",
    "            print(chr(k),end=\"\")\n",
    "            j+=1\n",
    "            k+=1\n",
    "        print()\n",
    "        i+=1\n",
    "        \n",
    "pattern_alpha(5)"
   ]
  },
  {
   "cell_type": "code",
   "execution_count": 11,
   "metadata": {},
   "outputs": [
    {
     "name": "stdout",
     "output_type": "stream",
     "text": [
      "ABC\n",
      "ABC\n",
      "ABC\n"
     ]
    }
   ],
   "source": [
    "def pattern_alpha1(num,start_chr='A'):\n",
    "    i = 1\n",
    "    while i<=num:\n",
    "        j=1\n",
    "        k=ord(start_chr)\n",
    "        while(j<=num):\n",
    "            print(chr(k),end=\"\")\n",
    "            j+=1\n",
    "            k+=1\n",
    "        print()\n",
    "        i+=1\n",
    "        \n",
    "pattern_alpha1(3)"
   ]
  },
  {
   "cell_type": "code",
   "execution_count": 12,
   "metadata": {},
   "outputs": [
    {
     "name": "stdout",
     "output_type": "stream",
     "text": [
      "A\n",
      "BC\n",
      "CDE\n",
      "DEFG\n"
     ]
    }
   ],
   "source": [
    "## Read input as specified in the question\n",
    "## Print the required output in given format\n",
    "def alpha_triangle(num):\n",
    "    i =1\n",
    "    \n",
    "    while i<=num:\n",
    "        j=1\n",
    "        k=ord('A')+i-1\n",
    "        while j<=i:\n",
    "            print(chr(k), end='')\n",
    "            k+=1\n",
    "            j+=1\n",
    "        print()\n",
    "        i+=1\n",
    "\n",
    "alpha_triangle(4)"
   ]
  },
  {
   "cell_type": "code",
   "execution_count": 13,
   "metadata": {},
   "outputs": [
    {
     "name": "stdout",
     "output_type": "stream",
     "text": [
      "E \n",
      "D E \n",
      "C D E \n",
      "B C D E \n",
      "A B C D E \n"
     ]
    }
   ],
   "source": [
    "def alpha_triangle_rev(num):\n",
    "    i =1\n",
    "    while i<=num:\n",
    "        j=1\n",
    "        k=ord('A')+num-i\n",
    "        while j<=i:\n",
    "            print(chr(k), end=' ')\n",
    "            k+=1\n",
    "            j+=1\n",
    "        print()\n",
    "        i+=1\n",
    "\n",
    "alpha_triangle_rev(5)"
   ]
  },
  {
   "cell_type": "code",
   "execution_count": 14,
   "metadata": {},
   "outputs": [
    {
     "name": "stdout",
     "output_type": "stream",
     "text": [
      "1\n",
      "11\n",
      "111\n",
      "1111\n",
      "11111\n"
     ]
    }
   ],
   "source": [
    "def pattern_triangle_1(num):\n",
    "    i = 1\n",
    "    while i<=num:\n",
    "        j = 1\n",
    "        while j<=i:\n",
    "            print('1', end='')\n",
    "            j+=1\n",
    "        print()\n",
    "        i+=1\n",
    "        \n",
    "pattern_triangle_1(5)"
   ]
  },
  {
   "cell_type": "code",
   "execution_count": 15,
   "metadata": {},
   "outputs": [
    {
     "name": "stdout",
     "output_type": "stream",
     "text": [
      "1\n",
      "11\n",
      "202\n"
     ]
    }
   ],
   "source": [
    "def pattern_triangle_2(num):\n",
    "    i=2\n",
    "    print(1)\n",
    "    while i<=num:\n",
    "        j=1\n",
    "        while j<=i:\n",
    "            if j==1 or j==i:\n",
    "                print(i-1, end='')\n",
    "            else:\n",
    "                print(0, end='')\n",
    "            j+=1\n",
    "        print()\n",
    "        i+=1\n",
    "        \n",
    "pattern_triangle_2(3)"
   ]
  },
  {
   "cell_type": "code",
   "execution_count": 16,
   "metadata": {},
   "outputs": [
    {
     "name": "stdout",
     "output_type": "stream",
     "text": [
      "1\n",
      "11\n",
      "121\n",
      "1221\n",
      "12221\n"
     ]
    }
   ],
   "source": [
    "def pattern_triangle_3(num):\n",
    "    i=2\n",
    "    print(1)\n",
    "    while i<=num:\n",
    "        j=1\n",
    "        while j<=i:\n",
    "            if j==1 or j==i:\n",
    "                print(1, end='')\n",
    "            else:\n",
    "                print(2, end='')\n",
    "            j+=1\n",
    "        print()\n",
    "        i+=1\n",
    "        \n",
    "pattern_triangle_3(5)"
   ]
  },
  {
   "cell_type": "code",
   "execution_count": 17,
   "metadata": {},
   "outputs": [
    {
     "name": "stdout",
     "output_type": "stream",
     "text": [
      "12345\n",
      "1234\n",
      "123\n",
      "12\n",
      "1\n"
     ]
    }
   ],
   "source": [
    "def pattern_traingle_4(num):\n",
    "    i=1\n",
    "    while i<=num:\n",
    "        j=num\n",
    "        k=1\n",
    "        while j>=i:\n",
    "            print(k, end='')\n",
    "            j-=1\n",
    "            k+=1\n",
    "        print()\n",
    "        i+=1\n",
    "    \n",
    "pattern_traingle_4(5)"
   ]
  },
  {
   "cell_type": "code",
   "execution_count": 18,
   "metadata": {},
   "outputs": [
    {
     "name": "stdout",
     "output_type": "stream",
     "text": [
      "A\n",
      "BB\n",
      "CCC\n"
     ]
    }
   ],
   "source": [
    "def pattern_triangle_alpha(num, start='A'):\n",
    "    i = 1\n",
    "    while i<=num:\n",
    "        k = ord(start)\n",
    "        j = 1\n",
    "        while j<=i:\n",
    "            print(chr(k+i-1), end='')\n",
    "            j+=1\n",
    "        print()\n",
    "        i+=1\n",
    "        \n",
    "pattern_triangle_alpha(3)"
   ]
  },
  {
   "cell_type": "code",
   "execution_count": 19,
   "metadata": {},
   "outputs": [
    {
     "data": {
      "text/plain": [
       "1"
      ]
     },
     "execution_count": 19,
     "metadata": {},
     "output_type": "execute_result"
    }
   ],
   "source": [
    "def power(n, r):\n",
    "    if n == 0:\n",
    "        return 1\n",
    "    else:\n",
    "        return n**r\n",
    "    \n",
    "    \n",
    "power(0, 1)"
   ]
  },
  {
   "cell_type": "code",
   "execution_count": 20,
   "metadata": {},
   "outputs": [
    {
     "name": "stdout",
     "output_type": "stream",
     "text": [
      "A\n",
      "BB\n",
      "CCC\n",
      "DDDD\n",
      "EEEEE\n"
     ]
    }
   ],
   "source": [
    "def prob2(num, start='A'):\n",
    "    i = 1\n",
    "    k = ord(start)\n",
    "    while i<=num:\n",
    "        j=1\n",
    "        while j<=i:\n",
    "            print(chr(k+i-1), end=\"\")\n",
    "            j+=1\n",
    "        print()\n",
    "        i+=1\n",
    "\n",
    "prob2(5)"
   ]
  },
  {
   "cell_type": "code",
   "execution_count": 21,
   "metadata": {},
   "outputs": [
    {
     "data": {
      "text/plain": [
       "True"
      ]
     },
     "execution_count": 21,
     "metadata": {},
     "output_type": "execute_result"
    }
   ],
   "source": [
    "def prime(num):\n",
    "    k = 2\n",
    "    while(k<num):\n",
    "        if num%k == 0:\n",
    "            return False\n",
    "        else:\n",
    "            k+=1\n",
    "    return True\n",
    "        \n",
    "prime(13)"
   ]
  },
  {
   "cell_type": "code",
   "execution_count": 22,
   "metadata": {},
   "outputs": [
    {
     "name": "stdout",
     "output_type": "stream",
     "text": [
      "3\n",
      "5\n"
     ]
    }
   ],
   "source": [
    "def prime_list(num):\n",
    "    collection = range(3, num+1)\n",
    "    for k in collection:\n",
    "        if prime(k):\n",
    "            print(k)\n",
    "        k+=1\n",
    "            \n",
    "        \n",
    "prime_list(5)"
   ]
  },
  {
   "cell_type": "code",
   "execution_count": 23,
   "metadata": {},
   "outputs": [
    {
     "name": "stdout",
     "output_type": "stream",
     "text": [
      "5 11 14 17 23 "
     ]
    }
   ],
   "source": [
    "def fun(x):\n",
    "    i = 1\n",
    "    j = 0\n",
    "    k = 0\n",
    "    while j < x:\n",
    "        k = (3*i) + 2\n",
    "        if k%4 !=0:\n",
    "            print(k, end=' ')\n",
    "            j+=1\n",
    "        i+=1\n",
    "\n",
    "fun(5)"
   ]
  },
  {
   "cell_type": "code",
   "execution_count": 24,
   "metadata": {},
   "outputs": [
    {
     "name": "stdout",
     "output_type": "stream",
     "text": [
      "1\n",
      "2 3 \n",
      "4 5 6 7 \n",
      "8 9 1 2 3 4 5 6 \n",
      "7 8 9 1 2 3 4 5 6 7 8 9 1 2 3 4 \n"
     ]
    }
   ],
   "source": [
    "def problem4(x):\n",
    "    i = 1\n",
    "    k = 1\n",
    "    print(k)\n",
    "    k+=1\n",
    "    while i<x:\n",
    "        j = 1\n",
    "        while j<=2**i:\n",
    "            if k == 10:\n",
    "                k = 1\n",
    "            print(k, end=\" \")\n",
    "            k+=1\n",
    "            j+=1\n",
    "        print()\n",
    "        i+=1\n",
    "\n",
    "problem4(5)"
   ]
  },
  {
   "cell_type": "code",
   "execution_count": 26,
   "metadata": {},
   "outputs": [
    {
     "name": "stdout",
     "output_type": "stream",
     "text": [
      "  * \n",
      " * * \n",
      "* * * \n"
     ]
    }
   ],
   "source": [
    "# Diamond pattern\n",
    "n = 3\n",
    "\n",
    "for i in range(0, n):\n",
    "    for j in range(0, n-i-1):\n",
    "        print(' ',end='')\n",
    "    for j in range(0, i+1, 1):\n",
    "        print('*', end=' ')\n",
    "    print()"
   ]
  },
  {
   "cell_type": "code",
   "execution_count": 27,
   "metadata": {},
   "outputs": [
    {
     "name": "stdout",
     "output_type": "stream",
     "text": [
      "* * * * \n",
      " * * * \n",
      "  * * \n",
      "   * \n"
     ]
    }
   ],
   "source": [
    "n = 4\n",
    "\n",
    "for i in range(0, n):\n",
    "    for j in range(i):\n",
    "        print(end=' ')\n",
    "    for j in range(0, n-i):\n",
    "        print('*', end=' ')\n",
    "    print()"
   ]
  },
  {
   "cell_type": "code",
   "execution_count": 28,
   "metadata": {},
   "outputs": [
    {
     "name": "stdout",
     "output_type": "stream",
     "text": [
      "        \n",
      "-      -\n",
      "--    --\n",
      "---  ---\n",
      "--------\n"
     ]
    }
   ],
   "source": [
    "n = 4\n",
    "\n",
    "for i in range(0, n+1):\n",
    "    for j in range(i):\n",
    "        print(end='-')\n",
    "    for j in range(0, n-i):\n",
    "        print(' ', end=' ')\n",
    "    for j in range(n-i, n):\n",
    "        print(end='-')\n",
    "    print()"
   ]
  },
  {
   "cell_type": "code",
   "execution_count": 29,
   "metadata": {},
   "outputs": [
    {
     "name": "stdout",
     "output_type": "stream",
     "text": [
      "--------\n",
      "---  ---\n",
      "--    --\n",
      "-      -\n",
      "        \n"
     ]
    }
   ],
   "source": [
    "n = 4\n",
    "\n",
    "for i in range(0, n+1):\n",
    "    for j in range(0, n-i):\n",
    "        print(end='-')\n",
    "    for j in range(n-i, n):\n",
    "        print(' ',end=' ')\n",
    "    for j in range(0, n-i):\n",
    "        print(end='-')\n",
    "    print()"
   ]
  },
  {
   "cell_type": "code",
   "execution_count": 30,
   "metadata": {},
   "outputs": [
    {
     "name": "stdout",
     "output_type": "stream",
     "text": [
      "--------\n",
      "---@ ---\n",
      "--@ @ --\n",
      "-@ @ @ -\n",
      "@ @ @ @ \n",
      "-@ @ @ -\n",
      "--@ @ --\n",
      "---@ ---\n",
      "--------\n"
     ]
    }
   ],
   "source": [
    "for i in range(0, n):\n",
    "    for j in range(0, n-i):\n",
    "        print(end='-')\n",
    "    for j in range(n-i, n):\n",
    "        print('@',end=' ')\n",
    "    for j in range(0, n-i):\n",
    "        print(end='-')\n",
    "    print()\n",
    "for i in range(0, n+1):\n",
    "    for j in range(i):\n",
    "        print(end='-')\n",
    "    for j in range(0, n-i):\n",
    "        print('@', end=' ')\n",
    "    for j in range(n-i, n):\n",
    "        print(end='-')\n",
    "    print()"
   ]
  },
  {
   "cell_type": "code",
   "execution_count": 31,
   "metadata": {},
   "outputs": [],
   "source": [
    "def print_matrix(mat):\n",
    "    n = len(mat)\n",
    "    for i in range(0, n):\n",
    "        for j in range(0, n):\n",
    "            print(mat[i][j], end='\\t')\n",
    "        print()"
   ]
  },
  {
   "cell_type": "code",
   "execution_count": 33,
   "metadata": {},
   "outputs": [
    {
     "name": "stdout",
     "output_type": "stream",
     "text": [
      "1\t2\t3\t4\t5\t\n",
      "16\t17\t18\t19\t6\t\n",
      "15\t24\t25\t20\t7\t\n",
      "14\t23\t22\t21\t8\t\n",
      "13\t12\t11\t10\t9\t\n"
     ]
    }
   ],
   "source": [
    "def spiral_square_positive(n):\n",
    "    X = [[0 for j in range(n)] for i in range(n)]\n",
    "    k = 1\n",
    "    low = 0\n",
    "    high = n-1\n",
    "    count = (n+1)//2\n",
    "    for i in range(count):\n",
    "        # ------>\n",
    "        for j in range(low, high+1):\n",
    "            X[i][j] = k\n",
    "            k += 1\n",
    "        for j in range(low+1, high+1):\n",
    "            X[j][high] = k\n",
    "            k += 1\n",
    "        # <-------\n",
    "        for j in range(high-1, low-1, -1):\n",
    "            X[high][j] = k\n",
    "            k += 1\n",
    "        for j in range(high-1, low, -1):\n",
    "            X[j][low] = k\n",
    "            k += 1\n",
    "\n",
    "        low = low+1\n",
    "        high = high-1\n",
    "        \n",
    "    print_matrix(X)\n",
    "    \n",
    "    \n",
    "spiral_square_positive(5)"
   ]
  },
  {
   "cell_type": "code",
   "execution_count": 34,
   "metadata": {},
   "outputs": [
    {
     "name": "stdout",
     "output_type": "stream",
     "text": [
      "25\t24\t23\t22\t21\t\n",
      "10\t9\t8\t7\t20\t\n",
      "11\t2\t1\t6\t19\t\n",
      "12\t3\t4\t5\t18\t\n",
      "13\t14\t15\t16\t17\t\n"
     ]
    }
   ],
   "source": [
    "def spiral_square_negative(n):\n",
    "    k = n ** 2\n",
    "    Y = [[i for i in range(n)] for i in range(n)]\n",
    "\n",
    "    low = 0\n",
    "    high = n-1\n",
    "    count = (n+1)//2\n",
    "\n",
    "    for i in range(count):\n",
    "        for j in range(low, high+1):\n",
    "            Y[low][j] = k\n",
    "            k -= 1\n",
    "        for j in range(low+1, high+1):\n",
    "            Y[j][high] = k\n",
    "            k -= 1\n",
    "        for j in range(high-1, low-1, -1):\n",
    "            Y[high][j] = k\n",
    "            k -= 1\n",
    "        for j in range(high-1, low, -1):\n",
    "            Y[j][low] = k\n",
    "            k -= 1\n",
    "        low += 1\n",
    "        high -= 1\n",
    "        \n",
    "    print_matrix(Y)\n",
    "        \n",
    "        \n",
    "spiral_square_negative(5)"
   ]
  },
  {
   "cell_type": "code",
   "execution_count": 35,
   "metadata": {},
   "outputs": [
    {
     "name": "stdout",
     "output_type": "stream",
     "text": [
      "p    n\n",
      " y  o \n",
      "  th  \n"
     ]
    }
   ],
   "source": [
    "name = 'python'\n",
    "n = len(name)\n",
    "i = 0\n",
    "while i < n//2:\n",
    "    j = 0\n",
    "    while j < n:\n",
    "        if j==i :\n",
    "            print(name[i], end='')\n",
    "        elif n-1-j == i:\n",
    "            print(name[j], end='')\n",
    "        else:\n",
    "            print(end=' ')\n",
    "        j += 1\n",
    "    print()\n",
    "    i += 1"
   ]
  },
  {
   "cell_type": "code",
   "execution_count": 39,
   "metadata": {},
   "outputs": [
    {
     "name": "stdout",
     "output_type": "stream",
     "text": [
      "*      *\n",
      " *    * \n",
      "  *  *  \n",
      "   **   \n",
      "   **   \n",
      "  *  *  \n",
      " *    * \n",
      "*      *\n"
     ]
    }
   ],
   "source": [
    "def pattern_x(n):\n",
    "    i = 0\n",
    "    j = n-1\n",
    "\n",
    "    row = 0\n",
    "    while row < n:\n",
    "        col = 0\n",
    "        while col < n:\n",
    "            if row==i and col==j:\n",
    "                print('*', end='')\n",
    "                i += 1\n",
    "                j -= 1\n",
    "            elif row == col:\n",
    "                print('*', end='')\n",
    "            else:\n",
    "                print(end=' ')\n",
    "\n",
    "            col += 1\n",
    "        row += 1\n",
    "        print()\n",
    "        \n",
    "pattern_x(8)"
   ]
  },
  {
   "cell_type": "code",
   "execution_count": 161,
   "metadata": {
    "collapsed": true
   },
   "outputs": [
    {
     "name": "stdout",
     "output_type": "stream",
     "text": [
      "* * * * * \n",
      "* * * *  \n",
      "* * *   \n",
      "* *    \n",
      "*     \n"
     ]
    }
   ],
   "source": [
    "n = 5\n",
    "def q1(n):\n",
    "    for i in range(n):\n",
    "        for j in range(n):\n",
    "            if j < (n-i):\n",
    "                print('*', end=' ')\n",
    "            else:\n",
    "                print(end=' ')\n",
    "        print()\n",
    "q1(5)"
   ]
  },
  {
   "cell_type": "code",
   "execution_count": 155,
   "metadata": {
    "collapsed": true
   },
   "outputs": [
    {
     "name": "stdout",
     "output_type": "stream",
     "text": [
      "* * * * * \n",
      "  * * * * \n",
      "    * * * \n",
      "      * * \n",
      "        * \n"
     ]
    }
   ],
   "source": [
    "def q2(n):\n",
    "    for i in range(n):\n",
    "        for j in range(n):\n",
    "            if j < i:\n",
    "                print(end='  ')\n",
    "            else:\n",
    "                print('*', end=' ')\n",
    "        print()\n",
    "q2(5)"
   ]
  },
  {
   "cell_type": "code",
   "execution_count": 152,
   "metadata": {
    "collapsed": true
   },
   "outputs": [
    {
     "name": "stdout",
     "output_type": "stream",
     "text": [
      "* \n",
      "* * \n",
      "* * * \n",
      "* * * * \n",
      "* * * * * \n"
     ]
    }
   ],
   "source": [
    "def q3(n):\n",
    "    for i in range(n):\n",
    "        for j in range(n):\n",
    "            if i<j:\n",
    "                print(end='')\n",
    "            else:\n",
    "                print('*', end=' ')\n",
    "        print()\n",
    "q3(5)"
   ]
  },
  {
   "cell_type": "code",
   "execution_count": 151,
   "metadata": {
    "collapsed": true
   },
   "outputs": [
    {
     "name": "stdout",
     "output_type": "stream",
     "text": [
      "        * \n",
      "      * * \n",
      "    * * * \n",
      "  * * * * \n",
      "* * * * * \n"
     ]
    }
   ],
   "source": [
    "def q4(n):\n",
    "    for i in range(n):\n",
    "        for j in range(n):\n",
    "            if j < (n-i-1):\n",
    "                print(' ', end=' ')\n",
    "            else:\n",
    "                print('*', end=' ')\n",
    "        print()\n",
    "q4(5)"
   ]
  },
  {
   "cell_type": "code",
   "execution_count": 170,
   "metadata": {},
   "outputs": [],
   "source": [
    "def hollow_diamond(n):\n",
    "    for i in range(n):\n",
    "        for j in range(n):\n",
    "            if j < (n-i):\n",
    "                print('*', end=' ')\n",
    "            else:\n",
    "                print(end=' ')\n",
    "\n",
    "        for j in range(n):\n",
    "                if j < i:\n",
    "                    print(' ',end='  ')\n",
    "                else:\n",
    "                    print('*', end=' ')\n",
    "        print()    \n",
    "    for i in range(1,n):\n",
    "        for j in range(n):\n",
    "            if i<j:\n",
    "                print(end=' ')\n",
    "            else:\n",
    "                print('*', end=' ')\n",
    "            \n",
    "        for j in range(n):\n",
    "            if j < (n-i-1):\n",
    "                print(' ', end='  ')\n",
    "            else:\n",
    "                print('*', end=' ')\n",
    "        print()"
   ]
  },
  {
   "cell_type": "code",
   "execution_count": 171,
   "metadata": {},
   "outputs": [
    {
     "name": "stdout",
     "output_type": "stream",
     "text": [
      "* * * * * * * * * * * * * * * * * * \n",
      "* * * * * * * *     * * * * * * * * \n",
      "* * * * * * *         * * * * * * * \n",
      "* * * * * *             * * * * * * \n",
      "* * * * *                 * * * * * \n",
      "* * * *                     * * * * \n",
      "* * *                         * * * \n",
      "* *                             * * \n",
      "*                                 * \n",
      "* *                             * * \n",
      "* * *                         * * * \n",
      "* * * *                     * * * * \n",
      "* * * * *                 * * * * * \n",
      "* * * * * *             * * * * * * \n",
      "* * * * * * *         * * * * * * * \n",
      "* * * * * * * *     * * * * * * * * \n",
      "* * * * * * * * * * * * * * * * * * \n"
     ]
    }
   ],
   "source": [
    "hollow_diamond(9)"
   ]
  },
  {
   "cell_type": "code",
   "execution_count": 222,
   "metadata": {},
   "outputs": [
    {
     "name": "stdout",
     "output_type": "stream",
     "text": [
      "              * \n",
      "            * * \n",
      "          * * * \n",
      "        * * * * \n",
      "      * - - - - \n",
      "    * * - - - - \n",
      "  * * * - - - - \n",
      "* * * * - - - - \n"
     ]
    }
   ],
   "source": [
    "n = \n",
    "for i in range(n):\n",
    "    for j in range(n):\n",
    "        if j < (n-i-1):\n",
    "            print(' ', end=' ')\n",
    "        else:\n",
    "            if i>= n/2 and j>= n/2:\n",
    "                print('-', end= ' ')\n",
    "            else:\n",
    "                print('*', end= ' ')\n",
    "    print()"
   ]
  },
  {
   "cell_type": "code",
   "execution_count": 234,
   "metadata": {},
   "outputs": [
    {
     "name": "stdout",
     "output_type": "stream",
     "text": [
      "*               \n",
      "* *             \n",
      "* * *           \n",
      "* * * *         \n",
      "- - - - *       \n",
      "- - - - * *     \n",
      "- - - - * * *   \n",
      "- - - - * * * * \n"
     ]
    }
   ],
   "source": [
    "for i in range(n):\n",
    "    for j in range(n):\n",
    "        if j < i+1:\n",
    "            if i >= n/2 and j< n/2:\n",
    "                print('-', end=' ')\n",
    "            else:\n",
    "                print('*', end= ' ')\n",
    "        else:\n",
    "            print(' ', end= ' ')\n",
    "    print()"
   ]
  },
  {
   "cell_type": "code",
   "execution_count": null,
   "metadata": {},
   "outputs": [],
   "source": []
  },
  {
   "cell_type": "code",
   "execution_count": null,
   "metadata": {},
   "outputs": [],
   "source": []
  }
 ],
 "metadata": {
  "kernelspec": {
   "display_name": "Python 3",
   "language": "python",
   "name": "python3"
  },
  "language_info": {
   "codemirror_mode": {
    "name": "ipython",
    "version": 3
   },
   "file_extension": ".py",
   "mimetype": "text/x-python",
   "name": "python",
   "nbconvert_exporter": "python",
   "pygments_lexer": "ipython3",
   "version": "3.7.6"
  }
 },
 "nbformat": 4,
 "nbformat_minor": 4
}
