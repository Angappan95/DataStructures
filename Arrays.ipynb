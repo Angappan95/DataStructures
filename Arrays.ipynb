{
 "cells": [
  {
   "cell_type": "markdown",
   "metadata": {},
   "source": [
    "**Arrays are collection of similar items. Since they are stored together, accessing, manipulating items within it are bit easy**"
   ]
  },
  {
   "cell_type": "code",
   "execution_count": 1,
   "metadata": {},
   "outputs": [],
   "source": [
    "class dvd:\n",
    "    def __init__(self, name, description=\"\", year=\"\"):\n",
    "        self.name = name\n",
    "        self.description = description\n",
    "        self.year = year\n",
    "        self.len = []\n",
    "        \n",
    "    def __str__(self):\n",
    "        return f'{self.name} | {self.description} | {self.year}'\n",
    "    \n",
    "    def __len__(self):\n",
    "        return len(self.len)"
   ]
  },
  {
   "cell_type": "code",
   "execution_count": 2,
   "metadata": {},
   "outputs": [],
   "source": [
    "d1 = dvd('Movie 1', 'Test description', 2012)\n",
    "d2 = dvd('Movie 2', 'Test description', 2013)\n",
    "d3 = dvd('Movie 3', 'Test description', 2015)\n",
    "d4 = dvd('Movie 4', 'Test description', 2013)\n",
    "d5 = dvd('Movie 5')"
   ]
  },
  {
   "cell_type": "code",
   "execution_count": 3,
   "metadata": {},
   "outputs": [],
   "source": [
    "ls = [dvd] * 5"
   ]
  },
  {
   "cell_type": "code",
   "execution_count": 4,
   "metadata": {},
   "outputs": [],
   "source": [
    "ls = [d1, d2, d3, d4, d5]"
   ]
  },
  {
   "cell_type": "code",
   "execution_count": 5,
   "metadata": {},
   "outputs": [
    {
     "name": "stdout",
     "output_type": "stream",
     "text": [
      "Movie 1 | Test description | 2012\n",
      "Movie 2 | Test description | 2013\n",
      "Movie 3 | Test description | 2015\n",
      "Movie 4 | Test description | 2013\n",
      "Movie 5 |  | \n"
     ]
    }
   ],
   "source": [
    "for item in ls:\n",
    "    print(item)"
   ]
  },
  {
   "cell_type": "code",
   "execution_count": 6,
   "metadata": {},
   "outputs": [
    {
     "data": {
      "text/plain": [
       "5"
      ]
     },
     "execution_count": 6,
     "metadata": {},
     "output_type": "execute_result"
    }
   ],
   "source": [
    "len(ls)"
   ]
  },
  {
   "cell_type": "markdown",
   "metadata": {},
   "source": [
    "List Manipulation"
   ]
  },
  {
   "cell_type": "code",
   "execution_count": 7,
   "metadata": {},
   "outputs": [
    {
     "data": {
      "text/plain": [
       "[1, 4, 9, 16, 25, 36, 49, 64, 81]"
      ]
     },
     "execution_count": 7,
     "metadata": {},
     "output_type": "execute_result"
    }
   ],
   "source": [
    "# Squaring a number\n",
    "ls = list(range(1, 10))\n",
    "[item**2 for item in ls ]"
   ]
  },
  {
   "cell_type": "code",
   "execution_count": 8,
   "metadata": {},
   "outputs": [
    {
     "data": {
      "text/plain": [
       "[1, '-', 3, '-', 5, '-', 7, '-', 9]"
      ]
     },
     "execution_count": 8,
     "metadata": {},
     "output_type": "execute_result"
    }
   ],
   "source": [
    "# List comprehension with conditional statement\n",
    "[item if item%2 != 0 else '-' for item in ls]"
   ]
  },
  {
   "cell_type": "markdown",
   "metadata": {},
   "source": [
    "Question 1: \n",
    "--\n",
    "Given a binary array, find the maximum number of consecutive 1s in this array.\n",
    "\n",
    "Input: [1,1,0,1,1,1]\n",
    "Output: 3\n",
    "Explanation: \n",
    "The first two digits or the last three digits are consecutive 1s.\n",
    "The maximum number of consecutive 1s is 3.\n",
    "    \n",
    "\n",
    "Steps:\n",
    "1. Increment the window length to current index\n",
    "2. If the current index value is 1. Add the index value. \n",
    "     ->If currentWindowSum is greater than the maxWindow, then update the value\n",
    "3. else update the currentWindowSum as 0"
   ]
  },
  {
   "cell_type": "code",
   "execution_count": 9,
   "metadata": {},
   "outputs": [],
   "source": [
    "def findLongestConsecutiveNum(arr):\n",
    "    maxWindow = 0\n",
    "    currentWindowSum = 0\n",
    "    \n",
    "    for item in arr:\n",
    "        if item == 1:\n",
    "            currentWindowSum += item\n",
    "            if currentWindowSum > maxWindow:\n",
    "                maxWindow = currentWindowSum\n",
    "            \n",
    "        else:\n",
    "            currentWindowSum = 0\n",
    "            \n",
    "    return maxWindow"
   ]
  },
  {
   "cell_type": "code",
   "execution_count": 10,
   "metadata": {},
   "outputs": [
    {
     "data": {
      "text/plain": [
       "4"
      ]
     },
     "execution_count": 10,
     "metadata": {},
     "output_type": "execute_result"
    }
   ],
   "source": [
    "findLongestConsecutiveNum([0,1,1,1,1,0,0,1,1])"
   ]
  },
  {
   "cell_type": "markdown",
   "metadata": {},
   "source": [
    "Question 2:\n",
    "--\n",
    "Find maximum sum of continious sub elements of subarray of size 3"
   ]
  },
  {
   "cell_type": "code",
   "execution_count": 11,
   "metadata": {},
   "outputs": [],
   "source": [
    "def maxSubArray(arr, k=3):\n",
    "    currentWindowSum = sum(arr[:3])\n",
    "    maxSum = currentWindowSum\n",
    "    index = 0\n",
    "    \n",
    "    for num in arr[k:]:\n",
    "        currentWindowSum = currentWindowSum + num - arr[index]\n",
    "        index += 1\n",
    "        if currentWindowSum > maxSum:\n",
    "            maxSum = currentWindowSum\n",
    "    return maxSum"
   ]
  },
  {
   "cell_type": "code",
   "execution_count": 12,
   "metadata": {},
   "outputs": [
    {
     "data": {
      "text/plain": [
       "24"
      ]
     },
     "execution_count": 12,
     "metadata": {},
     "output_type": "execute_result"
    }
   ],
   "source": [
    "temp = [1,2,3,4,5,6,1,2,7,8,9]\n",
    "maxSubArray(temp)"
   ]
  },
  {
   "cell_type": "markdown",
   "metadata": {},
   "source": [
    "Question 3:\n",
    "--\n",
    "Find the Smallest sub array with a sum of 8"
   ]
  },
  {
   "cell_type": "code",
   "execution_count": 13,
   "metadata": {},
   "outputs": [],
   "source": [
    "def smallestSubArray(arr, targetSum=8):\n",
    "    currentSum = 0\n",
    "    index = 0\n",
    "    \n",
    "    print('Current Sum: 0')\n",
    "    for idx, num in enumerate(arr):\n",
    "        currentSum += num\n",
    "        print(f'*Current sum + {num}: {currentSum}')\n",
    "        while(currentSum >= targetSum):\n",
    "            for i in range(index, idx):\n",
    "                if (currentSum > targetSum):\n",
    "                    currentSum -= arr[i] \n",
    "                    print(f'**After removing {arr[i]}: {currentSum}')\n",
    "                else:\n",
    "                    currentSum = 0\n",
    "                    index = idx + 1\n",
    "                    print('***Resetting Current sum to 0')\n",
    "                    break\n"
   ]
  },
  {
   "cell_type": "code",
   "execution_count": 14,
   "metadata": {},
   "outputs": [],
   "source": [
    "def smallestSubArray(arr, targetSum=8):\n",
    "    currentSum = 0\n",
    "    index = 0\n",
    "    counter = 0\n",
    "    minSubArray = len(arr)\n",
    "    print('Current Sum: 0')\n",
    "    for idx, num in enumerate(arr):\n",
    "        \n",
    "        counter += 1\n",
    "        currentSum += num\n",
    "        print(f'*Current sum + {num}: {currentSum} | {counter}')\n",
    "        print(f'*******{idx, num}*******')\n",
    "        while(currentSum >= targetSum):\n",
    "            for i in [0, 1, 2]:\n",
    "                print(i)\n",
    "                if (currentSum >= targetSum):\n",
    "                    currentSum -= arr[i] \n",
    "                    counter -= 1\n",
    "                    print(f'**After removing {arr[i]}: {currentSum} | {counter}')\n",
    "                else:\n",
    "                    if counter < minSubArray:\n",
    "                        minSubArray = counter\n",
    "                    currentSum = 0\n",
    "                    counter = 0\n",
    "                    index = idx + 1\n",
    "                    print(f'***Resetting Current sum to 0| {counter}| {minSubArray+1}')\n",
    "                    break\n",
    "                    \n",
    "    return minSubArray"
   ]
  },
  {
   "cell_type": "code",
   "execution_count": 15,
   "metadata": {},
   "outputs": [
    {
     "name": "stdout",
     "output_type": "stream",
     "text": [
      "Current Sum: 0\n",
      "*Current sum + 2: 2 | 1\n",
      "*******(0, 2)*******\n",
      "*Current sum + 1: 3 | 2\n",
      "*******(1, 1)*******\n",
      "*Current sum + 1: 4 | 3\n",
      "*******(2, 1)*******\n",
      "*Current sum + 8: 12 | 4\n",
      "*******(3, 8)*******\n",
      "0\n",
      "**After removing 2: 10 | 3\n",
      "1\n",
      "**After removing 1: 9 | 2\n",
      "2\n",
      "**After removing 1: 8 | 1\n",
      "0\n",
      "**After removing 2: 6 | 0\n",
      "1\n",
      "***Resetting Current sum to 0| 0| 1\n"
     ]
    },
    {
     "data": {
      "text/plain": [
       "0"
      ]
     },
     "execution_count": 15,
     "metadata": {},
     "output_type": "execute_result"
    }
   ],
   "source": [
    "smallestSubArray([2,1,1,8])"
   ]
  },
  {
   "cell_type": "code",
   "execution_count": 16,
   "metadata": {},
   "outputs": [
    {
     "ename": "SyntaxError",
     "evalue": "invalid syntax (<ipython-input-16-e3341b9427b2>, line 11)",
     "output_type": "error",
     "traceback": [
      "\u001b[0;36m  File \u001b[0;32m\"<ipython-input-16-e3341b9427b2>\"\u001b[0;36m, line \u001b[0;32m11\u001b[0m\n\u001b[0;31m    in = int(input())\u001b[0m\n\u001b[0m     ^\u001b[0m\n\u001b[0;31mSyntaxError\u001b[0m\u001b[0;31m:\u001b[0m invalid syntax\n"
     ]
    }
   ],
   "source": [
    "## Read input as specified in the question.\n",
    "def fibonacci(num):\n",
    "\n",
    "    if num == 0:\n",
    "        return 0\n",
    "    elif num == 1:\n",
    "        return 1\n",
    "    else:\n",
    "        return fibonacci(num-1) + fibonacci(num-2)\n",
    "\n",
    "in = int(input())\n",
    "print(fibonacci(in))"
   ]
  }
 ],
 "metadata": {
  "kernelspec": {
   "display_name": "Python 3",
   "language": "python",
   "name": "python3"
  },
  "language_info": {
   "codemirror_mode": {
    "name": "ipython",
    "version": 3
   },
   "file_extension": ".py",
   "mimetype": "text/x-python",
   "name": "python",
   "nbconvert_exporter": "python",
   "pygments_lexer": "ipython3",
   "version": "3.7.6"
  }
 },
 "nbformat": 4,
 "nbformat_minor": 4
}
