{
 "cells": [
  {
   "cell_type": "code",
   "execution_count": 1,
   "metadata": {},
   "outputs": [],
   "source": [
    "class Node:\n",
    "    def __init__(self, data):\n",
    "        self.data = data\n",
    "        self.next = None"
   ]
  },
  {
   "cell_type": "code",
   "execution_count": 2,
   "metadata": {},
   "outputs": [],
   "source": [
    "n1 = Node(1)\n",
    "n2 = Node(2)\n",
    "n1.next = n2"
   ]
  },
  {
   "cell_type": "code",
   "execution_count": 24,
   "metadata": {},
   "outputs": [],
   "source": [
    "def createLinkedList(data):\n",
    "    arr = [i for i in data.split(' ')]\n",
    "    head = None\n",
    "    currenthead = None\n",
    "\n",
    "    for currentItem in arr:\n",
    "        if currentItem == -1:\n",
    "            break\n",
    "            \n",
    "        newNode = Node(currentItem)\n",
    "        \n",
    "        if head is None:\n",
    "            head = newNode\n",
    "        else:\n",
    "            currenthead = head\n",
    "            while currenthead.next is not None:\n",
    "#                 print(currenthead.data, currenthead.next.data)\n",
    "                currenthead = currenthead.next\n",
    "            currenthead.next = newNode\n",
    "            \n",
    "    return head"
   ]
  },
  {
   "cell_type": "code",
   "execution_count": 31,
   "metadata": {},
   "outputs": [],
   "source": [
    "def printLinkedList(head):\n",
    "    while head.next is not None:\n",
    "        print(head.data)\n",
    "        head = head.next"
   ]
  },
  {
   "cell_type": "code",
   "execution_count": 66,
   "metadata": {},
   "outputs": [],
   "source": [
    "head = createLinkedList(\"1 2 3 4 1 0 -99 -1\")"
   ]
  },
  {
   "cell_type": "code",
   "execution_count": 67,
   "metadata": {},
   "outputs": [
    {
     "name": "stdout",
     "output_type": "stream",
     "text": [
      "1\n",
      "2\n",
      "3\n",
      "4\n",
      "1\n",
      "0\n",
      "-99\n"
     ]
    }
   ],
   "source": [
    "printLinkedList(head)"
   ]
  },
  {
   "cell_type": "code",
   "execution_count": 43,
   "metadata": {},
   "outputs": [],
   "source": [
    "def createLinkedList1(data):\n",
    "    arr = [i for i in data.split(' ')]\n",
    "    head = None\n",
    "    tail = None\n",
    "\n",
    "    for currentItem in arr:\n",
    "        if currentItem == -1:\n",
    "            break\n",
    "            \n",
    "        newNode = Node(currentItem)\n",
    "        \n",
    "        if head is None:\n",
    "            head = newNode\n",
    "            tail = head\n",
    "        else:\n",
    "            tail.next = newNode\n",
    "            tail = tail.next\n",
    "            \n",
    "    return head"
   ]
  },
  {
   "cell_type": "code",
   "execution_count": 75,
   "metadata": {},
   "outputs": [],
   "source": [
    "h1 = createLinkedList1(\"1 2 3 4 1 0 -1\")\n",
    "# printLinkedList(h1)"
   ]
  },
  {
   "cell_type": "code",
   "execution_count": 83,
   "metadata": {},
   "outputs": [],
   "source": [
    "def insertToLinkedList(head, data, pos):\n",
    "    if pos == 0:\n",
    "        newNode = Node(data)\n",
    "        newNode.next = head\n",
    "        return newNode\n",
    "    \n",
    "    previousNode = head\n",
    "    currentNode = head\n",
    "    i = 0\n",
    "    while currentNode is not None:\n",
    "        if i == pos:\n",
    "            newNode = Node(data)\n",
    "            previousNode.next = newNode\n",
    "            newNode.next = currentNode\n",
    "            return head\n",
    "        i += 1\n",
    "        previousNode = currentNode\n",
    "        currentNode = currentNode.next"
   ]
  },
  {
   "cell_type": "code",
   "execution_count": 87,
   "metadata": {},
   "outputs": [],
   "source": [
    "x = insertToLinkedList(h1, '000', 0)"
   ]
  },
  {
   "cell_type": "code",
   "execution_count": 88,
   "metadata": {},
   "outputs": [
    {
     "name": "stdout",
     "output_type": "stream",
     "text": [
      "000\n",
      "1\n",
      "000\n",
      "2\n",
      "3\n",
      "4\n",
      "1\n",
      "0\n"
     ]
    }
   ],
   "source": [
    "printLinkedList(x)"
   ]
  },
  {
   "cell_type": "code",
   "execution_count": null,
   "metadata": {},
   "outputs": [],
   "source": []
  }
 ],
 "metadata": {
  "kernelspec": {
   "display_name": "Python 3",
   "language": "python",
   "name": "python3"
  },
  "language_info": {
   "codemirror_mode": {
    "name": "ipython",
    "version": 3
   },
   "file_extension": ".py",
   "mimetype": "text/x-python",
   "name": "python",
   "nbconvert_exporter": "python",
   "pygments_lexer": "ipython3",
   "version": "3.7.6"
  }
 },
 "nbformat": 4,
 "nbformat_minor": 4
}
